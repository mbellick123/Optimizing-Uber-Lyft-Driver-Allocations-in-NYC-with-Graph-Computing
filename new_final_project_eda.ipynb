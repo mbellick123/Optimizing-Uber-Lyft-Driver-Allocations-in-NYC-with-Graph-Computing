{
 "cells": [
  {
   "cell_type": "code",
   "execution_count": null,
   "id": "0208be5f-9eda-4973-b3b3-a6c5dac6423d",
   "metadata": {},
   "outputs": [],
   "source": [
    "# Initialization\n",
    "from pyspark.sql import SparkSession\n",
    "\n",
    "# Create Spark session\n",
    "spark = SparkSession.builder.appName(\"EDA\").getOrCreate()"
   ]
  },
  {
   "cell_type": "code",
   "execution_count": null,
   "id": "49c2cf12-61fb-451f-a766-88e2deaab2fc",
   "metadata": {},
   "outputs": [],
   "source": [
    "# Load data\n",
    "tripdata_df = spark.read.parquet(\"gs://msca-bdp-student-gcs/Group_8/tripdata_cleaned\", header=True, inferSchema=True)"
   ]
  },
  {
   "cell_type": "code",
   "execution_count": null,
   "id": "a5cc9e61-6f13-4ca8-8bbb-d44c85351cef",
   "metadata": {},
   "outputs": [],
   "source": [
    "# Display schema\n",
    "tripdata_df.printSchema()\n",
    "\n",
    "# Display first 10 rows\n",
    "tripdata_df.show(10)"
   ]
  },
  {
   "cell_type": "code",
   "execution_count": null,
   "id": "3469df68-4d20-43e1-9f32-1c342cf5027a",
   "metadata": {},
   "outputs": [],
   "source": [
    "# Calculate and print percentage of missing values for all columns\n",
    "from pyspark.sql.functions import col\n",
    "\n",
    "for column in tripdata_df.columns:\n",
    "    percent_missing = 100 * (1 - (tripdata_df.select(column).dropna().count() / tripdata_df.select(column).count()))\n",
    "    print(f\"Percent missing in '{column}': {percent_missing}%\")"
   ]
  },
  {
   "cell_type": "code",
   "execution_count": null,
   "id": "64bfa55e-ad89-4e7e-a879-1bf2cc5432eb",
   "metadata": {},
   "outputs": [],
   "source": [
    "# Group and sort by PULocationID\n",
    "grouped_sorted_df = tripdata_df.groupBy(\"PULocationID\").count().orderBy(\"count\", ascending=False)\n",
    "\n",
    "# Show the result\n",
    "grouped_sorted_df.show(10)"
   ]
  },
  {
   "cell_type": "code",
   "execution_count": null,
   "id": "98c96ac0-1cac-4d54-97cf-e1754715fe67",
   "metadata": {},
   "outputs": [],
   "source": [
    "# Mapping license numbers to company names\n",
    "from pyspark.sql.functions import when\n",
    "\n",
    "code_to_company = {\n",
    "    \"HV0002\": \"Juno\",\n",
    "    \"HV0003\": \"Uber\",\n",
    "    \"HV0004\": \"Via\",\n",
    "    \"HV0005\": \"Lyft\"\n",
    "}\n",
    "\n",
    "# Initialize the column expression with a default value\n",
    "column_expr = col(\"hvfhs_license_num\")\n",
    "\n",
    "# Chain when clauses for each mapping\n",
    "for code, company in code_to_company.items():\n",
    "    column_expr = when(col(\"hvfhs_license_num\") == code, company).otherwise(column_expr)\n",
    "\n",
    "# Apply the transformation to create the new \"company\" column\n",
    "tripdata_df = tripdata_df.withColumn(\"company\", column_expr)\n",
    "\n",
    "# Show some rows to verify the change\n",
    "tripdata_df.select(\"hvfhs_license_num\", \"company\").show(10)"
   ]
  },
  {
   "cell_type": "code",
   "execution_count": null,
   "id": "c1ec3e53-0495-4ec2-8f47-413520e7fac5",
   "metadata": {},
   "outputs": [],
   "source": [
    "# Drop unnecessary columns\n",
    "tripdata_df = tripdata_df.drop(\"request_datetime\", \"pickup_datetime\")\n",
    "\n",
    "# Display schema to verify\n",
    "tripdata_df.printSchema()"
   ]
  },
  {
   "cell_type": "code",
   "execution_count": null,
   "id": "b470fa09-7e3a-45b4-ae4d-4a7c48775b0c",
   "metadata": {},
   "outputs": [],
   "source": [
    "# Trip Counts by Company\n",
    "from pyspark.sql import functions as F\n",
    "\n",
    "# Group by 'company' and count trips\n",
    "trip_counts_by_company = tripdata_df.groupBy(\"company\").agg(F.count(\"*\").alias(\"trip_count\"))\n",
    "\n",
    "# Convert to Pandas DataFrame for visualization\n",
    "pandas_trip_counts = trip_counts_by_company.toPandas()\n",
    "sorted_pandas_trip_counts = pandas_trip_counts.sort_values(by=\"trip_count\", ascending=False)"
   ]
  },
  {
   "cell_type": "code",
   "execution_count": null,
   "id": "0aaf4e96-2b7d-4540-88f3-abe76309fb0a",
   "metadata": {},
   "outputs": [],
   "source": [
    "# Visualize Trip Counts by Company\n",
    "import matplotlib.pyplot as plt\n",
    "import seaborn as sns\n",
    "\n",
    "plt.figure(figsize=(10, 6))\n",
    "sns.barplot(x=\"company\", y=\"trip_count\", data=sorted_pandas_trip_counts)\n",
    "plt.title('Trip Counts by Company')\n",
    "plt.xlabel('Company')\n",
    "plt.ylabel('Trip Count')\n",
    "plt.xticks(rotation=45)\n",
    "plt.show()"
   ]
  },
  {
   "cell_type": "code",
   "execution_count": null,
   "id": "b8a26456-928a-415a-95df-3782089cee75",
   "metadata": {},
   "outputs": [],
   "source": [
    "# Trip Distribution by Day of the Week for Uber and Lyft\n",
    "tripdata_df.createOrReplaceTempView(\"tripdata\")\n",
    "\n",
    "# Query to count trips by day of week for Uber and Lyft\n",
    "query = \"\"\"\n",
    "SELECT\n",
    "    request_day_of_week,\n",
    "    company,\n",
    "    COUNT(*) AS trip_count\n",
    "FROM\n",
    "    tripdata\n",
    "WHERE\n",
    "    company IN ('Uber', 'Lyft')\n",
    "GROUP BY\n",
    "    request_day_of_week, company\n",
    "ORDER BY\n",
    "    request_day_of_week\n",
    "\"\"\"\n",
    "\n",
    "trip_counts_day_of_week = spark.sql(query).toPandas()\n",
    "\n",
    "# Plotting\n",
    "plt.figure(figsize=(12, 8))\n",
    "sns.lineplot(data=trip_counts_day_of_week[trip_counts_day_of_week[\"company\"] == \"Uber\"], x=\"request_day_of_week\", y=\"trip_count\", color=\"blue\", label=\"Uber\")\n",
    "sns.lineplot(data=trip_counts_day_of_week[trip_counts_day_of_week[\"company\"] == \"Lyft\"], x=\"request_day_of_week\", y=\"trip_count\", color=\"green\", label=\"Lyft\", alpha=0.6)\n",
    "plt.title('Trip Distribution by Day of the Week for Uber and Lyft', fontsize=24)\n",
    "plt.xlabel('Day of the Week', fontsize=18)\n",
    "plt.ylabel('Number of Trips', fontsize=18)\n",
    "days_of_week = ['Monday', 'Tuesday', 'Wednesday', 'Thursday', 'Friday', 'Saturday', 'Sunday']\n",
    "plt.xticks(ticks=range(0, 7), labels=days_of_week, fontsize=12)\n",
    "plt.yticks(fontsize=12)\n",
    "plt.legend(fontsize='large')\n",
    "plt.tight_layout()\n",
    "plt.show()"
   ]
  },
  {
   "cell_type": "code",
   "execution_count": null,
   "id": "21f722eb-c5ef-4f69-95c5-6e2293eb7493",
   "metadata": {},
   "outputs": [],
   "source": [
    "# Trip Data Schema\n",
    "tripdata_df.printSchema()"
   ]
  },
  {
   "cell_type": "code",
   "execution_count": null,
   "id": "5a49a7f5-7ffc-4c93-8082-3b1f7cf8a44a",
   "metadata": {},
   "outputs": [],
   "source": [
    "# Group by 'company' and calculate the proportion of shared rides\n",
    "shared_rides_by_company = tripdata_df.groupBy(\"company\").agg(\n",
    "    (F.sum(\"shared_match_flag\") / F.count(\"*\")).alias(\"shared_ride_proportion\")\n",
    ")\n",
    "\n",
    "# Convert to Pandas DataFrame\n",
    "pandas_shared_rides = shared_rides_by_company.toPandas()"
   ]
  },
  {
   "cell_type": "code",
   "execution_count": null,
   "id": "045c441e-3c10-4ce7-b369-3e41a613565e",
   "metadata": {},
   "outputs": [],
   "source": [
    "# Visualize Proportion of Shared Rides by Company\n",
    "plt.figure(figsize=(10, 6))\n",
    "sns.barplot(x=\"company\", y=\"shared_ride_proportion\", data=pandas_shared_rides)\n",
    "plt.title('Proportion of Shared Rides by Company')\n",
    "plt.xlabel('Company')\n",
    "plt.ylabel('Proportion of Shared Rides')\n",
    "plt.xticks(rotation=45)\n",
    "plt.show()"
   ]
  },
  {
   "cell_type": "code",
   "execution_count": null,
   "id": "e0f87d8a-d08f-4a88-a794-3cc1cc4ba1bd",
   "metadata": {},
   "outputs": [],
   "source": [
    "# Average Wait Times by Time of Day\n",
    "# Group by 'pickup_time_of_day' and calculate average wait time\n",
    "avg_wait_time_by_time_of_day = tripdata_df.groupBy(\"pickup_time_of_day\").agg(\n",
    "    F.avg(\"wait_time\").alias(\"avg_wait_time\")\n",
    ")\n",
    "\n",
    "# Convert to Pandas DataFrame\n",
    "pandas_avg_wait_time = avg_wait_time_by_time_of_day.toPandas()"
   ]
  },
  {
   "cell_type": "code",
   "execution_count": null,
   "id": "ca3ed7ff-f1d3-430d-8759-c3213ba6974e",
   "metadata": {},
   "outputs": [],
   "source": [
    "# Visualize Average Wait Times by Time of Day\n",
    "plt.figure(figsize=(10, 6))\n",
    "sns.barplot(x=\"pickup_time_of_day\", y=\"avg_wait_time\", data=pandas_avg_wait_time)\n",
    "plt.title('Average Wait Time by Time of Day')\n",
    "plt.xlabel('Time of Day')\n",
    "plt.ylabel('Average Wait Time (Seconds)')\n",
    "plt.xticks(rotation=45)\n",
    "plt.show()"
   ]
  }
 ],
 "metadata": {
  "kernelspec": {
   "display_name": "Python 3 (ipykernel)",
   "language": "python",
   "name": "python3"
  },
  "language_info": {
   "codemirror_mode": {
    "name": "ipython",
    "version": 3
   },
   "file_extension": ".py",
   "mimetype": "text/x-python",
   "name": "python",
   "nbconvert_exporter": "python",
   "pygments_lexer": "ipython3",
   "version": "3.11.4"
  }
 },
 "nbformat": 4,
 "nbformat_minor": 5
}
