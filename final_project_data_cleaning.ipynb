{
 "cells": [
  {
   "cell_type": "code",
   "execution_count": 12,
   "id": "339132a3-d26f-48b6-b8d0-4fd5ba2b4be0",
   "metadata": {},
   "outputs": [],
   "source": [
    "from pyspark.sql import SparkSession\n",
    "spark = SparkSession.builder.appName(\"Read Parquet Files\").getOrCreate()\n",
    "tripdata_df = spark.read.parquet(\"gs://msca-bdp-student-gcs/Group_8/tripdata\", header=True, inferSchema=True)"
   ]
  },
  {
   "cell_type": "code",
   "execution_count": 13,
   "id": "b5fa6de8-993d-42c1-9c25-9cea1a9d511a",
   "metadata": {},
   "outputs": [
    {
     "name": "stdout",
     "output_type": "stream",
     "text": [
      "root\n",
      " |-- hvfhs_license_num: string (nullable = true)\n",
      " |-- dispatching_base_num: string (nullable = true)\n",
      " |-- originating_base_num: string (nullable = true)\n",
      " |-- request_datetime: timestamp (nullable = true)\n",
      " |-- on_scene_datetime: timestamp (nullable = true)\n",
      " |-- pickup_datetime: timestamp (nullable = true)\n",
      " |-- dropoff_datetime: timestamp (nullable = true)\n",
      " |-- PULocationID: long (nullable = true)\n",
      " |-- DOLocationID: long (nullable = true)\n",
      " |-- trip_miles: double (nullable = true)\n",
      " |-- trip_time: long (nullable = true)\n",
      " |-- base_passenger_fare: double (nullable = true)\n",
      " |-- tolls: double (nullable = true)\n",
      " |-- bcf: double (nullable = true)\n",
      " |-- sales_tax: double (nullable = true)\n",
      " |-- congestion_surcharge: double (nullable = true)\n",
      " |-- airport_fee: integer (nullable = true)\n",
      " |-- tips: double (nullable = true)\n",
      " |-- driver_pay: double (nullable = true)\n",
      " |-- shared_request_flag: string (nullable = true)\n",
      " |-- shared_match_flag: string (nullable = true)\n",
      " |-- access_a_ride_flag: string (nullable = true)\n",
      " |-- wav_request_flag: string (nullable = true)\n",
      " |-- wav_match_flag: integer (nullable = true)\n",
      "\n"
     ]
    },
    {
     "name": "stderr",
     "output_type": "stream",
     "text": [
      "[Stage 42:===========================================>              (3 + 1) / 4]\r"
     ]
    },
    {
     "name": "stdout",
     "output_type": "stream",
     "text": [
      "+-----------------+--------------------+--------------------+-------------------+-------------------+-------------------+-------------------+------------+------------+----------+---------+-------------------+-----+----+---------+--------------------+-----------+----+----------+-------------------+-----------------+------------------+----------------+--------------+\n",
      "|hvfhs_license_num|dispatching_base_num|originating_base_num|   request_datetime|  on_scene_datetime|    pickup_datetime|   dropoff_datetime|PULocationID|DOLocationID|trip_miles|trip_time|base_passenger_fare|tolls| bcf|sales_tax|congestion_surcharge|airport_fee|tips|driver_pay|shared_request_flag|shared_match_flag|access_a_ride_flag|wav_request_flag|wav_match_flag|\n",
      "+-----------------+--------------------+--------------------+-------------------+-------------------+-------------------+-------------------+------------+------------+----------+---------+-------------------+-----+----+---------+--------------------+-----------+----+----------+-------------------+-----------------+------------------+----------------+--------------+\n",
      "|           HV0003|              B02867|              B02867|2019-02-01 00:01:26|2019-02-01 00:02:55|2019-02-01 00:05:18|2019-02-01 00:14:57|         245|         251|      2.45|      579|               9.35|  0.0|0.23|     0.83|                 0.0|       null| 0.0|      7.48|                  Y|                N|                 N|               N|          null|\n",
      "|           HV0003|              B02879|              B02879|2019-02-01 00:26:08|2019-02-01 00:41:29|2019-02-01 00:41:29|2019-02-01 00:49:39|         216|         197|      1.71|      490|               7.91|  0.0| 0.2|      0.7|                 0.0|       null| 2.0|      7.93|                  N|                N|                 N|               N|          null|\n",
      "|           HV0005|              B02510|                null|2019-02-01 00:48:58|               null|2019-02-01 00:51:34|2019-02-01 01:28:29|         261|         234|      5.01|     2159|              44.96|  0.0|1.12|     3.99|                 0.0|       null| 0.0|     35.97|                  N|                Y|                 N|               N|          null|\n",
      "|           HV0005|              B02510|                null|2019-02-01 00:02:15|               null|2019-02-01 00:03:51|2019-02-01 00:07:16|          87|          87|      0.34|      179|               7.19|  0.0|0.18|     0.64|                 0.0|       null| 3.0|      5.39|                  N|                Y|                 N|               N|          null|\n",
      "|           HV0005|              B02510|                null|2019-02-01 00:06:17|               null|2019-02-01 00:09:44|2019-02-01 00:39:56|          87|         198|      6.84|     1799|              24.25| 0.11|0.61|     2.16|                 0.0|       null| 4.0|     17.07|                  N|                Y|                 N|               N|          null|\n",
      "|           HV0005|              B02510|                null|2019-02-01 00:56:01|               null|2019-02-01 00:59:55|2019-02-01 01:06:28|         198|         198|      1.11|      359|               5.75|  0.0|0.14|     0.51|                 0.0|       null| 0.0|       0.0|                  Y|                Y|                 N|               N|          null|\n",
      "|           HV0005|              B02510|                null|2019-02-01 00:07:17|               null|2019-02-01 00:12:06|2019-02-01 00:42:13|         161|         148|      4.53|     1799|              16.39|  0.0|0.41|     1.45|                 0.0|       null| 0.0|     14.31|                  N|                Y|                 N|               N|          null|\n",
      "|           HV0005|              B02510|                null|2019-02-01 00:43:33|               null|2019-02-01 00:45:35|2019-02-01 01:14:56|         148|          21|     11.24|     1739|              29.77| 0.72|0.76|     2.71|                 0.0|       null| 0.0|     22.09|                  N|                Y|                 N|               N|          null|\n",
      "|           HV0003|              B02867|              B02867|2019-02-01 00:00:35|2019-02-01 00:09:33|2019-02-01 00:10:48|2019-02-01 00:20:23|         226|         260|      1.59|      574|               6.99|  0.0|0.17|     0.62|                 0.0|       null| 0.0|      6.51|                  Y|                N|                 N|               N|          null|\n",
      "|           HV0003|              B02867|              B02867|2019-02-01 00:29:16|2019-02-01 00:31:21|2019-02-01 00:32:32|2019-02-01 00:40:25|           7|         223|       1.9|      474|               7.05|  0.0|0.18|     0.63|                 0.0|       null| 0.0|      6.01|                  Y|                N|                 N|               N|          null|\n",
      "|           HV0003|              B02867|              B02867|2019-02-01 00:55:48|2019-02-01 00:58:45|2019-02-01 00:59:54|2019-02-01 01:09:31|         129|          70|      2.74|      576|              10.36|  0.0|0.26|     0.92|                 0.0|       null| 0.0|      7.77|                  N|                N|                 N|               N|          null|\n",
      "|           HV0003|              B02764|              B02764|2019-01-31 23:58:20|2019-01-31 23:58:30|2019-02-01 00:01:11|2019-02-01 00:21:35|         263|         229|      7.91|     1225|               9.48|  0.0|0.63|     2.22|                 0.0|       null| 0.0|     20.05|                  N|                N|                 N|               N|          null|\n",
      "|           HV0003|              B02764|              B02764|2019-02-01 00:33:43|2019-02-01 00:36:22|2019-02-01 00:36:22|2019-02-01 00:55:30|         162|         129|      7.21|     1148|              20.69| 5.76|0.66|     2.35|                 0.0|       null| 0.0|     23.16|                  N|                N|                 N|               N|          null|\n",
      "|           HV0002|              B02914|              B02914|2019-02-01 00:05:50|               null|2019-02-01 00:10:09|2019-02-01 00:31:04|         161|          33|      6.93|     1254|              21.46|  0.0|0.47|     1.71|                null|       null|3.55|     17.71|                  N|                N|                 N|               N|          null|\n",
      "|           HV0003|              B02864|              B02864|2019-02-01 00:54:59|2019-02-01 00:55:05|2019-02-01 00:57:50|2019-02-01 01:05:08|         258|         197|      2.16|      438|                8.5|  0.0|0.21|     0.75|                 0.0|       null| 0.0|      5.99|                  N|                N|                 N|               N|          null|\n",
      "|           HV0003|              B02875|              B02875|2019-01-31 23:59:01|2019-02-01 00:01:00|2019-02-01 00:05:24|2019-02-01 00:17:13|         255|          17|      2.92|      710|              11.51|  0.0|0.29|     1.02|                 0.0|       null| 0.0|      8.53|                  N|                N|                 N|               N|          null|\n",
      "|           HV0003|              B02875|              B02875|2019-02-01 00:24:04|2019-02-01 00:25:56|2019-02-01 00:27:38|2019-02-01 00:32:36|         255|         112|      1.09|      298|               3.92|  0.0| 0.1|     0.35|                 0.0|       null| 0.0|      5.64|                  Y|                N|                 N|               N|          null|\n",
      "|           HV0003|              B02875|              B02875|2019-02-01 00:47:49|2019-02-01 00:48:04|2019-02-01 00:52:50|2019-02-01 00:56:02|         234|         137|      0.37|      192|               7.81|  0.0| 0.2|     0.69|                 0.0|       null| 0.0|      6.11|                  N|                N|                 N|               N|          null|\n",
      "|           HV0003|              B02682|              B02682|2019-02-01 00:25:04|2019-02-01 00:25:24|2019-02-01 00:30:24|2019-02-01 00:59:08|         163|         256|      8.09|     1724|              26.34| 5.76| 0.8|     2.85|                 0.0|       null| 0.0|     28.99|                  N|                N|                 N|               N|          null|\n",
      "|           HV0003|              B02682|              B02682|2019-02-01 00:32:37|2019-02-01 00:32:43|2019-02-01 00:35:06|2019-02-01 00:44:27|         161|         262|       2.4|      561|              22.16|  0.0|0.55|     1.97|                 0.0|       null| 0.0|     16.35|                  N|                N|                 N|               N|          null|\n",
      "+-----------------+--------------------+--------------------+-------------------+-------------------+-------------------+-------------------+------------+------------+----------+---------+-------------------+-----+----+---------+--------------------+-----------+----+----------+-------------------+-----------------+------------------+----------------+--------------+\n",
      "only showing top 20 rows\n",
      "\n"
     ]
    },
    {
     "name": "stderr",
     "output_type": "stream",
     "text": [
      "                                                                                \r"
     ]
    }
   ],
   "source": [
    "tripdata_df.printSchema()\n",
    "tripdata_df.show()"
   ]
  },
  {
   "cell_type": "code",
   "execution_count": 14,
   "id": "0507b774-51c7-494b-a6aa-f49933bb7b8e",
   "metadata": {},
   "outputs": [],
   "source": [
    "#Dropping columns\n",
    "\n",
    "columns_to_drop = [\"dispatching_base_num\", \"originating_base_num\"]\n",
    "tripdata_df = tripdata_df.drop(*columns_to_drop)"
   ]
  },
  {
   "cell_type": "code",
   "execution_count": 15,
   "id": "1c55c63f-445b-4f3a-976b-d7d3341a2a0a",
   "metadata": {},
   "outputs": [
    {
     "name": "stdout",
     "output_type": "stream",
     "text": [
      "root\n",
      " |-- hvfhs_license_num: string (nullable = true)\n",
      " |-- request_datetime: timestamp (nullable = true)\n",
      " |-- on_scene_datetime: timestamp (nullable = true)\n",
      " |-- pickup_datetime: timestamp (nullable = true)\n",
      " |-- dropoff_datetime: timestamp (nullable = true)\n",
      " |-- PULocationID: long (nullable = true)\n",
      " |-- DOLocationID: long (nullable = true)\n",
      " |-- trip_miles: double (nullable = true)\n",
      " |-- trip_time: long (nullable = true)\n",
      " |-- base_passenger_fare: double (nullable = true)\n",
      " |-- tolls: double (nullable = true)\n",
      " |-- bcf: double (nullable = true)\n",
      " |-- sales_tax: double (nullable = true)\n",
      " |-- congestion_surcharge: double (nullable = true)\n",
      " |-- airport_fee: integer (nullable = true)\n",
      " |-- tips: double (nullable = true)\n",
      " |-- driver_pay: double (nullable = true)\n",
      " |-- shared_request_flag: string (nullable = true)\n",
      " |-- shared_match_flag: string (nullable = true)\n",
      " |-- access_a_ride_flag: string (nullable = true)\n",
      " |-- wav_request_flag: string (nullable = true)\n",
      " |-- wav_match_flag: integer (nullable = true)\n",
      "\n"
     ]
    }
   ],
   "source": [
    "tripdata_df.printSchema()"
   ]
  },
  {
   "cell_type": "code",
   "execution_count": 16,
   "id": "cb381e61-200c-4640-b5da-3745e911463f",
   "metadata": {},
   "outputs": [
    {
     "name": "stderr",
     "output_type": "stream",
     "text": [
      "[Stage 46:=====================================================>(148 + 1) / 149]\r"
     ]
    },
    {
     "name": "stdout",
     "output_type": "stream",
     "text": [
      "0.0\n"
     ]
    },
    {
     "name": "stderr",
     "output_type": "stream",
     "text": [
      "                                                                                \r"
     ]
    }
   ],
   "source": [
    "#Notes on missing values in trip_data df\n",
    "#Syntax: percent_missing = 100 * (1 - (tripdata_df.select(\"col_name\").dropna().count() / tripdata_df.select(\"col_name\").count()))\n",
    "\n",
    "percent_missing_a = 100 * (1 - (tripdata_df.select(\"wav_request_flag\").dropna().count() / tripdata_df.select(\"wav_request_flag\").count()))\n",
    "# percent_missing_b = 100 * (1 - (tripdata_df.select(\"wav_match_flag\").dropna().count() / tripdata_df.select(\"wav_match_flag\").count()))\n",
    "\n",
    "\n",
    "print(percent_missing_a)\n",
    "\n",
    "#Column Name         | % missing data\n",
    "\n",
    "#hvfhs_license_num   | 0%\n",
    "#request_datetime    |≈0%\n",
    "#on_scene_datetime   |≈27.87%\n",
    "#pickup_datetime     | 0%\n",
    "#dropoff_datetime    | 0%\n",
    "#PULocationID        | 0%\n",
    "#DOLocationID        | 0%\n",
    "#trip_miles          | 0%\n",
    "#base_passenger_fare | 0%\n",
    "#tolls               | 0%\n",
    "#bcf                 | 0%\n",
    "#sales_tax           | 0%\n",
    "#congestion_surcharge|≈0%\n",
    "#airport_fee         | 100%\n",
    "#tips                | 0%\n",
    "#driver_pay          | 0%\n",
    "#shared_request_flag | 0%\n",
    "#shared_match_flag   | 0%\n",
    "#access_a_ride_flag  | 0%\n",
    "#wav_request_flag    | 0%\n",
    "#wav_match_flag    | 100%"
   ]
  },
  {
   "cell_type": "code",
   "execution_count": 17,
   "id": "da599a0c-69e5-49de-a8b2-bc6bf6803fcc",
   "metadata": {},
   "outputs": [],
   "source": [
    "#Dropping more columns and removing nulls (based on missing values)\n",
    "from pyspark.sql.functions import col\n",
    "\n",
    "\n",
    "#Dropping columns with lots of missing data\n",
    "columns_to_drop = [\"on_scene_datetime\", \"airport_fee\", \"wav_match_flag\"]\n",
    "tripdata_df = tripdata_df.drop(*columns_to_drop)\n",
    "\n",
    "\n",
    "#Removing NA values from columns with minimal missing data\n",
    "tripdata_df = tripdata_df.where(col(\"request_datetime\").isNotNull())\n",
    "tripdata_df = tripdata_df.where(col(\"congestion_surcharge\").isNotNull())\n",
    "\n",
    "\n"
   ]
  },
  {
   "cell_type": "code",
   "execution_count": 18,
   "id": "2ef8235b-51bf-4af9-b7da-7fc35e13bda6",
   "metadata": {},
   "outputs": [],
   "source": [
    "#Cleaning data types\n",
    "from pyspark.sql.functions import when\n",
    "\n",
    "#Changing Location ID columns to strings\n",
    "tripdata_df = tripdata_df.withColumn(\"PULocationID\", col(\"PULocationID\").cast(\"string\"))\n",
    "tripdata_df = tripdata_df.withColumn(\"DOLocationID\", col(\"DOLocationID\").cast(\"string\"))\n",
    "\n",
    "#Changing yes/no columns to 0/1 integers\n",
    "tripdata_df = tripdata_df.withColumn(\"shared_request_flag\", when(col(\"shared_request_flag\") == \"yes\", 1).otherwise(0))\n",
    "tripdata_df = tripdata_df.withColumn(\"shared_match_flag\", when(col(\"shared_match_flag\") == \"yes\", 1).otherwise(0))\n",
    "tripdata_df = tripdata_df.withColumn(\"access_a_ride_flag\", when(col(\"access_a_ride_flag\") == \"yes\", 1).otherwise(0))\n",
    "tripdata_df = tripdata_df.withColumn(\"wav_request_flag\", when(col(\"wav_request_flag\") == \"yes\", 1).otherwise(0))"
   ]
  },
  {
   "cell_type": "code",
   "execution_count": 19,
   "id": "2ace251a-f9f7-4475-a5f6-bd6726308d2f",
   "metadata": {},
   "outputs": [
    {
     "name": "stdout",
     "output_type": "stream",
     "text": [
      "root\n",
      " |-- hvfhs_license_num: string (nullable = true)\n",
      " |-- request_datetime: timestamp (nullable = true)\n",
      " |-- pickup_datetime: timestamp (nullable = true)\n",
      " |-- dropoff_datetime: timestamp (nullable = true)\n",
      " |-- PULocationID: string (nullable = true)\n",
      " |-- DOLocationID: string (nullable = true)\n",
      " |-- trip_miles: double (nullable = true)\n",
      " |-- trip_time: long (nullable = true)\n",
      " |-- base_passenger_fare: double (nullable = true)\n",
      " |-- tolls: double (nullable = true)\n",
      " |-- bcf: double (nullable = true)\n",
      " |-- sales_tax: double (nullable = true)\n",
      " |-- congestion_surcharge: double (nullable = true)\n",
      " |-- tips: double (nullable = true)\n",
      " |-- driver_pay: double (nullable = true)\n",
      " |-- shared_request_flag: integer (nullable = false)\n",
      " |-- shared_match_flag: integer (nullable = false)\n",
      " |-- access_a_ride_flag: integer (nullable = false)\n",
      " |-- wav_request_flag: integer (nullable = false)\n",
      "\n"
     ]
    }
   ],
   "source": [
    "tripdata_df.printSchema()"
   ]
  },
  {
   "cell_type": "code",
   "execution_count": 20,
   "id": "f88437d4-b16f-4541-ba3e-6fa3288b6d5d",
   "metadata": {},
   "outputs": [
    {
     "name": "stderr",
     "output_type": "stream",
     "text": [
      "[Stage 50:===========================================>              (3 + 1) / 4]\r"
     ]
    },
    {
     "name": "stdout",
     "output_type": "stream",
     "text": [
      "+-------------------+-------------------+---------+\n",
      "|   request_datetime|    pickup_datetime|wait_time|\n",
      "+-------------------+-------------------+---------+\n",
      "|2019-02-01 00:01:26|2019-02-01 00:05:18|      232|\n",
      "|2019-02-01 00:26:08|2019-02-01 00:41:29|      921|\n",
      "|2019-02-01 00:48:58|2019-02-01 00:51:34|      156|\n",
      "|2019-02-01 00:02:15|2019-02-01 00:03:51|       96|\n",
      "|2019-02-01 00:06:17|2019-02-01 00:09:44|      207|\n",
      "|2019-02-01 00:56:01|2019-02-01 00:59:55|      234|\n",
      "|2019-02-01 00:07:17|2019-02-01 00:12:06|      289|\n",
      "|2019-02-01 00:43:33|2019-02-01 00:45:35|      122|\n",
      "|2019-02-01 00:00:35|2019-02-01 00:10:48|      613|\n",
      "|2019-02-01 00:29:16|2019-02-01 00:32:32|      196|\n",
      "|2019-02-01 00:55:48|2019-02-01 00:59:54|      246|\n",
      "|2019-01-31 23:58:20|2019-02-01 00:01:11|      171|\n",
      "|2019-02-01 00:33:43|2019-02-01 00:36:22|      159|\n",
      "|2019-02-01 00:54:59|2019-02-01 00:57:50|      171|\n",
      "|2019-01-31 23:59:01|2019-02-01 00:05:24|      383|\n",
      "|2019-02-01 00:24:04|2019-02-01 00:27:38|      214|\n",
      "|2019-02-01 00:47:49|2019-02-01 00:52:50|      301|\n",
      "|2019-02-01 00:25:04|2019-02-01 00:30:24|      320|\n",
      "|2019-02-01 00:32:37|2019-02-01 00:35:06|      149|\n",
      "|2019-01-31 23:57:50|2019-02-01 00:12:54|      904|\n",
      "+-------------------+-------------------+---------+\n",
      "only showing top 20 rows\n",
      "\n"
     ]
    },
    {
     "name": "stderr",
     "output_type": "stream",
     "text": [
      "                                                                                \r"
     ]
    }
   ],
   "source": [
    "from pyspark.sql.functions import unix_timestamp\n",
    "\n",
    "\n",
    "# Calculate the difference in seconds between two timestamp columns\n",
    "tripdata_df = tripdata_df.withColumn(\n",
    "    \"wait_time\",\n",
    "    unix_timestamp(\"pickup_datetime\") - unix_timestamp(\"request_datetime\")\n",
    ")\n",
    "\n",
    "\n",
    "# Show the result\n",
    "tripdata_df.select(\"request_datetime\", \"pickup_datetime\", \"wait_time\").show()\n",
    "\n"
   ]
  },
  {
   "cell_type": "code",
   "execution_count": 21,
   "id": "680b5b4e-29c8-4c38-b2fd-e0b6ea42c8f0",
   "metadata": {},
   "outputs": [
    {
     "name": "stdout",
     "output_type": "stream",
     "text": [
      "+-------------------+-------------------+------------+-------------------+-------------+\n",
      "|   request_datetime|request_time_of_day|request_hour|request_day_of_week|request_month|\n",
      "+-------------------+-------------------+------------+-------------------+-------------+\n",
      "|2019-02-01 00:01:26|              night|           0|                  6|            2|\n",
      "|2019-02-01 00:26:08|              night|           0|                  6|            2|\n",
      "|2019-02-01 00:48:58|              night|           0|                  6|            2|\n",
      "|2019-02-01 00:02:15|              night|           0|                  6|            2|\n",
      "|2019-02-01 00:06:17|              night|           0|                  6|            2|\n",
      "|2019-02-01 00:56:01|              night|           0|                  6|            2|\n",
      "|2019-02-01 00:07:17|              night|           0|                  6|            2|\n",
      "|2019-02-01 00:43:33|              night|           0|                  6|            2|\n",
      "|2019-02-01 00:00:35|              night|           0|                  6|            2|\n",
      "|2019-02-01 00:29:16|              night|           0|                  6|            2|\n",
      "+-------------------+-------------------+------------+-------------------+-------------+\n",
      "only showing top 10 rows\n",
      "\n"
     ]
    }
   ],
   "source": [
    "\n",
    "\n",
    "#Feature engineering for request_datetime\n",
    "from pyspark.sql.functions import date_format, dayofweek, month, hour\n",
    "\n",
    "# Function to categorize time of the day\n",
    "def categorize_time_of_day(df, timestamp_column):\n",
    "    return df.withColumn(\n",
    "        \"request_time_of_day\",\n",
    "        when(date_format(timestamp_column, \"HH\").cast(\"int\").between(5, 11), \"morning\")\n",
    "        .when(date_format(timestamp_column, \"HH\").cast(\"int\").between(12, 16), \"afternoon\")\n",
    "        .when(date_format(timestamp_column, \"HH\").cast(\"int\").between(17, 20), \"evening\")\n",
    "        .otherwise(\"night\")\n",
    "    )\n",
    "\n",
    "# Apply the categorize_time_of_day function\n",
    "tripdata_df = categorize_time_of_day(tripdata_df, \"request_datetime\")\n",
    "\n",
    "# Add day of the week and month columns\n",
    "tripdata_df = tripdata_df.withColumn(\"request_hour\", hour(\"request_datetime\")) \\\n",
    "                          .withColumn(\"request_day_of_week\", dayofweek(\"request_datetime\")) \\\n",
    "                           .withColumn(\"request_month\", month(\"request_datetime\"))\n",
    "\n",
    "# Show the result\n",
    "tripdata_df.select(\"request_datetime\", \"request_time_of_day\", \"request_hour\", \"request_day_of_week\", \"request_month\").show(10)"
   ]
  },
  {
   "cell_type": "code",
   "execution_count": 22,
   "id": "b8593cfb-34e6-4913-a40a-f6661bfb7603",
   "metadata": {},
   "outputs": [
    {
     "name": "stderr",
     "output_type": "stream",
     "text": [
      "[Stage 54:===========================================>              (3 + 1) / 4]\r"
     ]
    },
    {
     "name": "stdout",
     "output_type": "stream",
     "text": [
      "+-------------------+------------------+-----------+------------------+------------+\n",
      "|    pickup_datetime|pickup_time_of_day|pickup_hour|pickup_day_of_week|pickup_month|\n",
      "+-------------------+------------------+-----------+------------------+------------+\n",
      "|2019-02-01 00:05:18|             night|          0|                 6|           2|\n",
      "|2019-02-01 00:41:29|             night|          0|                 6|           2|\n",
      "|2019-02-01 00:51:34|             night|          0|                 6|           2|\n",
      "|2019-02-01 00:03:51|             night|          0|                 6|           2|\n",
      "|2019-02-01 00:09:44|             night|          0|                 6|           2|\n",
      "|2019-02-01 00:59:55|             night|          0|                 6|           2|\n",
      "|2019-02-01 00:12:06|             night|          0|                 6|           2|\n",
      "|2019-02-01 00:45:35|             night|          0|                 6|           2|\n",
      "|2019-02-01 00:10:48|             night|          0|                 6|           2|\n",
      "|2019-02-01 00:32:32|             night|          0|                 6|           2|\n",
      "+-------------------+------------------+-----------+------------------+------------+\n",
      "only showing top 10 rows\n",
      "\n"
     ]
    },
    {
     "name": "stderr",
     "output_type": "stream",
     "text": [
      "                                                                                \r"
     ]
    }
   ],
   "source": [
    "#Feature engineering for pickup_datetime\n",
    "from pyspark.sql.functions import date_format, dayofweek, month, hour\n",
    "\n",
    "# Function to categorize time of the day\n",
    "def categorize_time_of_day(df, timestamp_column):\n",
    "    return df.withColumn(\n",
    "        \"pickup_time_of_day\",\n",
    "        when(date_format(timestamp_column, \"HH\").cast(\"int\").between(5, 11), \"morning\")\n",
    "        .when(date_format(timestamp_column, \"HH\").cast(\"int\").between(12, 16), \"afternoon\")\n",
    "        .when(date_format(timestamp_column, \"HH\").cast(\"int\").between(17, 20), \"evening\")\n",
    "        .otherwise(\"night\")\n",
    "    )\n",
    "\n",
    "# Apply the categorize_time_of_day function\n",
    "tripdata_df = categorize_time_of_day(tripdata_df, \"pickup_datetime\")\n",
    "\n",
    "# Add day of the week and month columns\n",
    "tripdata_df = tripdata_df.withColumn(\"pickup_hour\", hour(\"pickup_datetime\")) \\\n",
    "                          .withColumn(\"pickup_day_of_week\", dayofweek(\"pickup_datetime\")) \\\n",
    "                           .withColumn(\"pickup_month\", month(\"pickup_datetime\"))\n",
    "\n",
    "# Show the result\n",
    "tripdata_df.select(\"pickup_datetime\", \"pickup_time_of_day\", \"pickup_hour\", \"pickup_day_of_week\", \"pickup_month\").show(10)"
   ]
  },
  {
   "cell_type": "code",
   "execution_count": 23,
   "id": "211fb50c-a0e7-4e63-8f4c-b39cd4c681ad",
   "metadata": {},
   "outputs": [
    {
     "name": "stdout",
     "output_type": "stream",
     "text": [
      "root\n",
      " |-- hvfhs_license_num: string (nullable = true)\n",
      " |-- request_datetime: timestamp (nullable = true)\n",
      " |-- pickup_datetime: timestamp (nullable = true)\n",
      " |-- dropoff_datetime: timestamp (nullable = true)\n",
      " |-- PULocationID: string (nullable = true)\n",
      " |-- DOLocationID: string (nullable = true)\n",
      " |-- trip_miles: double (nullable = true)\n",
      " |-- trip_time: long (nullable = true)\n",
      " |-- base_passenger_fare: double (nullable = true)\n",
      " |-- tolls: double (nullable = true)\n",
      " |-- bcf: double (nullable = true)\n",
      " |-- sales_tax: double (nullable = true)\n",
      " |-- congestion_surcharge: double (nullable = true)\n",
      " |-- tips: double (nullable = true)\n",
      " |-- driver_pay: double (nullable = true)\n",
      " |-- shared_request_flag: integer (nullable = false)\n",
      " |-- shared_match_flag: integer (nullable = false)\n",
      " |-- access_a_ride_flag: integer (nullable = false)\n",
      " |-- wav_request_flag: integer (nullable = false)\n",
      " |-- wait_time: long (nullable = true)\n",
      " |-- request_time_of_day: string (nullable = false)\n",
      " |-- request_hour: integer (nullable = true)\n",
      " |-- request_day_of_week: integer (nullable = true)\n",
      " |-- request_month: integer (nullable = true)\n",
      " |-- pickup_time_of_day: string (nullable = false)\n",
      " |-- pickup_hour: integer (nullable = true)\n",
      " |-- pickup_day_of_week: integer (nullable = true)\n",
      " |-- pickup_month: integer (nullable = true)\n",
      "\n"
     ]
    }
   ],
   "source": [
    "tripdata_df.printSchema()"
   ]
  },
  {
   "cell_type": "code",
   "execution_count": 24,
   "id": "8f80f623-88cb-43e3-ac1a-7b1dc2feedc0",
   "metadata": {},
   "outputs": [
    {
     "name": "stderr",
     "output_type": "stream",
     "text": [
      "23/11/25 23:41:27 WARN org.apache.spark.sql.catalyst.util.package: Truncated the string representation of a plan since it was too large. This behavior can be adjusted by setting 'spark.sql.debug.maxToStringFields'.\n",
      "                                                                                \r"
     ]
    }
   ],
   "source": [
    "# Define the path\n",
    "output_path = \"gs://msca-bdp-student-gcs/Group_8/tripdata_cleaned\"\n",
    "\n",
    "# Write the DataFrame to the specified GCS bucket in Parquet format\n",
    "tripdata_df.write.mode(\"overwrite\").parquet(output_path)\n"
   ]
  }
 ],
 "metadata": {
  "kernelspec": {
   "display_name": "Python 3 (ipykernel)",
   "language": "python",
   "name": "python3"
  },
  "language_info": {
   "codemirror_mode": {
    "name": "ipython",
    "version": 3
   },
   "file_extension": ".py",
   "mimetype": "text/x-python",
   "name": "python",
   "nbconvert_exporter": "python",
   "pygments_lexer": "ipython3",
   "version": "3.11.4"
  }
 },
 "nbformat": 4,
 "nbformat_minor": 5
}
